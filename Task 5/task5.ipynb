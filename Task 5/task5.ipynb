{
 "cells": [
  {
   "cell_type": "markdown",
   "id": "7421b4db",
   "metadata": {},
   "source": [
    "Data Loading & Exploration"
   ]
  },
  {
   "cell_type": "code",
   "execution_count": 3,
   "id": "b2340eb6",
   "metadata": {},
   "outputs": [
    {
     "name": "stdout",
     "output_type": "stream",
     "text": [
      "<class 'pandas.core.frame.DataFrame'>\n",
      "RangeIndex: 4803 entries, 0 to 4802\n",
      "Data columns (total 20 columns):\n",
      " #   Column                Non-Null Count  Dtype  \n",
      "---  ------                --------------  -----  \n",
      " 0   budget                4803 non-null   int64  \n",
      " 1   genres                4803 non-null   object \n",
      " 2   homepage              1712 non-null   object \n",
      " 3   id                    4803 non-null   int64  \n",
      " 4   keywords              4803 non-null   object \n",
      " 5   original_language     4803 non-null   object \n",
      " 6   original_title        4803 non-null   object \n",
      " 7   overview              4800 non-null   object \n",
      " 8   popularity            4803 non-null   float64\n",
      " 9   production_companies  4803 non-null   object \n",
      " 10  production_countries  4803 non-null   object \n",
      " 11  release_date          4802 non-null   object \n",
      " 12  revenue               4803 non-null   int64  \n",
      " 13  runtime               4801 non-null   float64\n",
      " 14  spoken_languages      4803 non-null   object \n",
      " 15  status                4803 non-null   object \n",
      " 16  tagline               3959 non-null   object \n",
      " 17  title                 4803 non-null   object \n",
      " 18  vote_average          4803 non-null   float64\n",
      " 19  vote_count            4803 non-null   int64  \n",
      "dtypes: float64(3), int64(4), object(13)\n",
      "memory usage: 750.6+ KB\n"
     ]
    }
   ],
   "source": [
    "import pandas as pd\n",
    "\n",
    "# Dataset ko load karna\n",
    "df = pd.read_csv('dataset.csv')\n",
    "\n",
    "# Dataset ka initial inspection\n",
    "df.head()  # Pehli 5 rows ko dekhein\n",
    "df.info()  # Data types aur missing values ko dekhein\n"
   ]
  },
  {
   "cell_type": "markdown",
   "id": "63c09ff5",
   "metadata": {},
   "source": [
    "Data Cleaning (Missing Data Handling)"
   ]
  },
  {
   "cell_type": "code",
   "execution_count": 4,
   "id": "b1d682ce",
   "metadata": {},
   "outputs": [],
   "source": [
    "# Check for missing values\n",
    "df.isnull().sum()\n",
    "\n",
    "# Agar missing values hain, toh unhe drop ya fill karein\n",
    "df = df.dropna(subset=['overview'])  # Overview ke missing values ko drop kar rahe hain\n"
   ]
  },
  {
   "cell_type": "markdown",
   "id": "82560d37",
   "metadata": {},
   "source": [
    "Text Preprocessing (Tokenization & Cleaning)"
   ]
  },
  {
   "cell_type": "code",
   "execution_count": 5,
   "id": "8c54cf6d",
   "metadata": {},
   "outputs": [],
   "source": [
    "from sklearn.feature_extraction.text import TfidfVectorizer\n",
    "import string\n",
    "\n",
    "# Overview column ko clean karte hain\n",
    "def clean_text(text):\n",
    "    text = text.lower()  # Lowercase conversion\n",
    "    text = ''.join([char for char in text if char not in string.punctuation])  # Remove punctuation\n",
    "    return text\n",
    "\n",
    "df['overview'] = df['overview'].apply(clean_text)\n",
    "\n",
    "# TF-IDF Vectorizer setup\n",
    "tfidf = TfidfVectorizer(stop_words='english')\n",
    "\n",
    "# Overview column ko vectorize karna\n",
    "tfidf_matrix = tfidf.fit_transform(df['overview'])\n"
   ]
  },
  {
   "cell_type": "markdown",
   "id": "11a25c5d",
   "metadata": {},
   "source": [
    "Cosine Similarity Calculation"
   ]
  },
  {
   "cell_type": "code",
   "execution_count": 6,
   "id": "bf89e793",
   "metadata": {},
   "outputs": [],
   "source": [
    "from sklearn.metrics.pairwise import cosine_similarity\n",
    "\n",
    "# Cosine Similarity calculate karna\n",
    "cosine_sim = cosine_similarity(tfidf_matrix, tfidf_matrix)\n"
   ]
  },
  {
   "cell_type": "markdown",
   "id": "f40b4aa5",
   "metadata": {},
   "source": [
    "Recommendation Function"
   ]
  },
  {
   "cell_type": "code",
   "execution_count": 7,
   "id": "6311192f",
   "metadata": {},
   "outputs": [
    {
     "data": {
      "text/plain": [
       "428                              Batman Returns\n",
       "3                         The Dark Knight Rises\n",
       "3854    Batman: The Dark Knight Returns, Part 2\n",
       "119                               Batman Begins\n",
       "299                              Batman Forever\n",
       "Name: title, dtype: object"
      ]
     },
     "execution_count": 7,
     "metadata": {},
     "output_type": "execute_result"
    }
   ],
   "source": [
    "def recommend_movie(title, cosine_sim=cosine_sim):\n",
    "    # Movie index find karna\n",
    "    idx = df[df['title'] == title].index[0]\n",
    "\n",
    "    # Similarity scores ke saath movies ko sort karna\n",
    "    sim_scores = list(enumerate(cosine_sim[idx]))\n",
    "    sim_scores = sorted(sim_scores, key=lambda x: x[1], reverse=True)\n",
    "\n",
    "    # Top 5 similar movies ko select karna\n",
    "    sim_scores = sim_scores[1:6]\n",
    "    movie_indices = [i[0] for i in sim_scores]\n",
    "\n",
    "    return df['title'].iloc[movie_indices]\n",
    "\n",
    "# Example usage\n",
    "recommend_movie('The Dark Knight')\n"
   ]
  },
  {
   "cell_type": "markdown",
   "id": "bd0891f7",
   "metadata": {},
   "source": [
    "Final Testing"
   ]
  },
  {
   "cell_type": "code",
   "execution_count": 9,
   "id": "2f9fd6b6",
   "metadata": {},
   "outputs": [
    {
     "name": "stdout",
     "output_type": "stream",
     "text": [
      "343                Toy Story 2\n",
      "42                 Toy Story 3\n",
      "2869    For Your Consideration\n",
      "3383                 Losin' It\n",
      "2569               Match Point\n",
      "Name: title, dtype: object\n",
      "4387                     A LEGO Brickumentary\n",
      "2612                                Boat Trip\n",
      "368            Percy Jackson: Sea of Monsters\n",
      "1415                             Flash Gordon\n",
      "1001    Street Fighter: The Legend of Chun-Li\n",
      "Name: title, dtype: object\n",
      "591         Stardust\n",
      "3999             Ida\n",
      "2299       Leap Year\n",
      "1669     The Promise\n",
      "809     Forrest Gump\n",
      "Name: title, dtype: object\n"
     ]
    }
   ],
   "source": [
    "# Test with different movie titles\n",
    "print(recommend_movie('Toy Story'))\n",
    "print(recommend_movie('The Lego Movie'))\n",
    "print(recommend_movie('Frozen'))\n"
   ]
  }
 ],
 "metadata": {
  "kernelspec": {
   "display_name": ".venv",
   "language": "python",
   "name": "python3"
  },
  "language_info": {
   "codemirror_mode": {
    "name": "ipython",
    "version": 3
   },
   "file_extension": ".py",
   "mimetype": "text/x-python",
   "name": "python",
   "nbconvert_exporter": "python",
   "pygments_lexer": "ipython3",
   "version": "3.13.3"
  }
 },
 "nbformat": 4,
 "nbformat_minor": 5
}
